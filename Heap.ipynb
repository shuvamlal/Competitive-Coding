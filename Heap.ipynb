{
 "cells": [
  {
   "cell_type": "markdown",
   "metadata": {},
   "source": [
    "1. Sort an array using heap."
   ]
  },
  {
   "cell_type": "code",
   "execution_count": 25,
   "metadata": {},
   "outputs": [
    {
     "name": "stdout",
     "output_type": "stream",
     "text": [
      "[2, 3, 4, 5, 7, 9, 10, 12, 30]\n"
     ]
    }
   ],
   "source": [
    "# using heappush and heappop\n",
    "import heapq\n",
    "ls = [2,30,4,12,5,7,9,10,3]\n",
    "h=[]\n",
    "for i in ls:\n",
    "     heapq.heappush(h, i)\n",
    "# print(h)\n",
    "print([heapq.heappop(h) for _ in range(len(h))])"
   ]
  },
  {
   "cell_type": "code",
   "execution_count": 26,
   "metadata": {},
   "outputs": [
    {
     "name": "stdout",
     "output_type": "stream",
     "text": [
      "[2, 3, 4, 5, 7, 9, 10, 12, 30]\n"
     ]
    }
   ],
   "source": [
    "# implementing heap sort\n",
    "def heapify(arr, n, i):\n",
    "    # building max heap here\n",
    "    largest = i\n",
    "    l_child = 2*i+1\n",
    "    r_child = 2*i+2\n",
    "    \n",
    "    if l_child < n and arr[l_child] > arr[i]:\n",
    "        largest = l_child\n",
    "        \n",
    "    if r_child < n and arr[r_child] > arr[largest]:\n",
    "        largest = r_child\n",
    "        \n",
    "    if largest != i:\n",
    "        arr[i], arr[largest] = arr[largest], arr[i]\n",
    "        heapify(arr, n, largest)\n",
    "\n",
    "def heapSort(arr):\n",
    "    n = len(arr)\n",
    "    \n",
    "    for i in range(n//2-1, -1, -1):\n",
    "        heapify(arr, n, i)\n",
    "        \n",
    "    for i in range(n-1, 0, -1):\n",
    "        arr[0], arr[i] = arr[i], arr[0]\n",
    "        heapify(arr, i, 0)\n",
    "\n",
    "ls = [2,30,4,12,5,7,9,10,3]\n",
    "heapSort(ls)\n",
    "print(ls)"
   ]
  },
  {
   "cell_type": "code",
   "execution_count": null,
   "metadata": {},
   "outputs": [],
   "source": []
  }
 ],
 "metadata": {
  "kernelspec": {
   "display_name": "Python 3",
   "language": "python",
   "name": "python3"
  },
  "language_info": {
   "codemirror_mode": {
    "name": "ipython",
    "version": 3
   },
   "file_extension": ".py",
   "mimetype": "text/x-python",
   "name": "python",
   "nbconvert_exporter": "python",
   "pygments_lexer": "ipython3",
   "version": "3.7.3"
  }
 },
 "nbformat": 4,
 "nbformat_minor": 4
}
