{
 "cells": [
  {
   "cell_type": "markdown",
   "metadata": {},
   "source": [
    "## Day 13"
   ]
  },
  {
   "cell_type": "code",
   "execution_count": 22,
   "metadata": {},
   "outputs": [
    {
     "name": "stdout",
     "output_type": "stream",
     "text": [
      "6\n"
     ]
    }
   ],
   "source": [
    "ls = [0,0,0,1,1,1,0]\n",
    "a = ls.count(0)\n",
    "b = ls.count(1)\n",
    "print(min(a,b)*2)"
   ]
  },
  {
   "cell_type": "code",
   "execution_count": 30,
   "metadata": {},
   "outputs": [
    {
     "name": "stdout",
     "output_type": "stream",
     "text": [
      "[1, 1]\n",
      "[1, 1]\n",
      "[0, 2]\n",
      "[1, 3]\n"
     ]
    }
   ],
   "source": [
    "l = [[1,1],[1,1],[0,2],[1,3]]\n",
    "for i in l:\n",
    "    print(i)"
   ]
  },
  {
   "cell_type": "code",
   "execution_count": 34,
   "metadata": {},
   "outputs": [
    {
     "data": {
      "text/plain": [
       "'amshuv'"
      ]
     },
     "execution_count": 34,
     "metadata": {},
     "output_type": "execute_result"
    }
   ],
   "source": [
    "s='shuvam'\n",
    "s[-2:]+s[:-2]"
   ]
  },
  {
   "cell_type": "code",
   "execution_count": 38,
   "metadata": {},
   "outputs": [
    {
     "data": {
      "text/plain": [
       "'uvamsh'"
      ]
     },
     "execution_count": 38,
     "metadata": {},
     "output_type": "execute_result"
    }
   ],
   "source": [
    "s[2:] + s[:2]"
   ]
  },
  {
   "cell_type": "code",
   "execution_count": 6,
   "metadata": {},
   "outputs": [
    {
     "name": "stdout",
     "output_type": "stream",
     "text": [
      "0\n"
     ]
    }
   ],
   "source": [
    "ls = [1,0,0]\n",
    "print(ls.index(1))"
   ]
  },
  {
   "cell_type": "code",
   "execution_count": 11,
   "metadata": {},
   "outputs": [
    {
     "name": "stdout",
     "output_type": "stream",
     "text": [
      "{1: [0, 17], 5: [1, 6, 12, 18, 22], 8: [2, 7, 13, 19], 9: [3, 10, 20], 4: [4, 9, 14], 7: [5, 11, 21], 3: [8, 15, 24], 2: [16, 25], 6: [23]}\n",
      "defaultdict(<class 'list'>, {1: [0, 17], 5: [1, 6, 12, 18, 22], 8: [2, 7, 13, 19], 9: [3, 10, 20], 4: [4, 9, 14], 7: [5, 11, 21], 3: [8, 15, 24], 2: [16, 25], 6: [23]})\n"
     ]
    }
   ],
   "source": [
    "import random\n",
    "from collections import defaultdict\n",
    "res = {}\n",
    "test = defaultdict(list)\n",
    "l = [1,5,8,9,4,7,5,8,3,4,9,7,5,8,4,3,2,1,5,8,9,7,5,6,3,2]\n",
    "for i in range(len(l)):\n",
    "    if l[i] not in res:\n",
    "        res[l[i]] = [i]\n",
    "    else:\n",
    "        res[l[i]] += [i]\n",
    "    test[l[i]].append(i)\n",
    "print(res)\n",
    "print(test)"
   ]
  },
  {
   "cell_type": "code",
   "execution_count": 12,
   "metadata": {},
   "outputs": [
    {
     "data": {
      "text/plain": [
       "dict_keys([1, 5, 8, 9, 4, 7, 3, 2, 6])"
      ]
     },
     "execution_count": 12,
     "metadata": {},
     "output_type": "execute_result"
    }
   ],
   "source": [
    "test.keys()"
   ]
  },
  {
   "cell_type": "code",
   "execution_count": null,
   "metadata": {},
   "outputs": [],
   "source": []
  },
  {
   "cell_type": "code",
   "execution_count": null,
   "metadata": {},
   "outputs": [],
   "source": []
  }
 ],
 "metadata": {
  "kernelspec": {
   "display_name": "Python 3",
   "language": "python",
   "name": "python3"
  },
  "language_info": {
   "codemirror_mode": {
    "name": "ipython",
    "version": 3
   },
   "file_extension": ".py",
   "mimetype": "text/x-python",
   "name": "python",
   "nbconvert_exporter": "python",
   "pygments_lexer": "ipython3",
   "version": "3.7.3"
  }
 },
 "nbformat": 4,
 "nbformat_minor": 4
}
