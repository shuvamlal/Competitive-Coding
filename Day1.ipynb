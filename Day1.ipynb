{
 "cells": [
  {
   "cell_type": "code",
   "execution_count": 1,
   "metadata": {},
   "outputs": [
    {
     "name": "stdout",
     "output_type": "stream",
     "text": [
      "5\n",
      "*\n",
      "**\n",
      "***\n",
      "****\n",
      "*****\n"
     ]
    }
   ],
   "source": [
    "# pattern 1\n",
    "n = int(input())\n",
    "z = ['*'*(i+1) for i in range(n)]\n",
    "print('\\n'.join(z))"
   ]
  },
  {
   "cell_type": "code",
   "execution_count": 2,
   "metadata": {},
   "outputs": [
    {
     "name": "stdout",
     "output_type": "stream",
     "text": [
      "5\n",
      "*****\n",
      "****\n",
      "***\n",
      "**\n",
      "*\n"
     ]
    }
   ],
   "source": [
    "# pattern 2\n",
    "n = int(input())\n",
    "z = ['*'*(i+1) for i in range(n)]\n",
    "print('\\n'.join(z[::-1]))"
   ]
  },
  {
   "cell_type": "code",
   "execution_count": 24,
   "metadata": {},
   "outputs": [
    {
     "name": "stdout",
     "output_type": "stream",
     "text": [
      "5\n",
      "    *\n",
      "   **\n",
      "  ***\n",
      " ****\n",
      "*****\n"
     ]
    }
   ],
   "source": [
    "# pattern 3\n",
    "n = int(input())\n",
    "z = [('*'*(i+1)).rjust(n, ' ') for i in range(n)]\n",
    "print('\\n'.join(z))"
   ]
  },
  {
   "cell_type": "code",
   "execution_count": 2,
   "metadata": {},
   "outputs": [
    {
     "name": "stdout",
     "output_type": "stream",
     "text": [
      "5\n",
      "*****\n",
      " ****\n",
      "  ***\n",
      "   **\n",
      "    *\n"
     ]
    }
   ],
   "source": [
    "# pattern 4\n",
    "n = int(input())\n",
    "z = [('*'*(i+1)).rjust(n, ' ') for i in range(n)]\n",
    "print('\\n'.join(z[::-1]))"
   ]
  },
  {
   "cell_type": "code",
   "execution_count": 1,
   "metadata": {},
   "outputs": [
    {
     "name": "stdout",
     "output_type": "stream",
     "text": [
      "5\n",
      "    *     \n",
      "   * *    \n",
      "  * * *   \n",
      " * * * *  \n",
      "* * * * * \n"
     ]
    }
   ],
   "source": [
    "# pattern 5\n",
    "n = int(input())\n",
    "z = [('* '*(i+1)).center(2*n, ' ') for i in range(n)]\n",
    "print('\\n'.join(z))"
   ]
  },
  {
   "cell_type": "code",
   "execution_count": 11,
   "metadata": {},
   "outputs": [
    {
     "name": "stdout",
     "output_type": "stream",
     "text": [
      "5\n",
      "    *     \n",
      "   * *    \n",
      "  * * *   \n",
      " * * * *  \n",
      "* * * * * \n",
      " * * * *  \n",
      "  * * *   \n",
      "   * *    \n",
      "    *     \n"
     ]
    }
   ],
   "source": [
    "# pattern 6\n",
    "n = int(input())\n",
    "z = [('* '*(i+1)).center(2*n, ' ') for i in range(n)]\n",
    "print('\\n'.join(z + z[:-1][::-1]))"
   ]
  },
  {
   "cell_type": "markdown",
   "metadata": {},
   "source": [
    "## Starting Day 2"
   ]
  },
  {
   "cell_type": "code",
   "execution_count": 17,
   "metadata": {},
   "outputs": [
    {
     "name": "stdout",
     "output_type": "stream",
     "text": [
      "None\n"
     ]
    }
   ],
   "source": [
    "class Solution:\n",
    "    def reverseString(self, s):\n",
    "        \"\"\"\n",
    "        Do not return anything, modify s in-place instead.\n",
    "        \"\"\"\n",
    "        return s.reverse()\n",
    "c = Solution()\n",
    "print(c.reverseString([\"h\",\"e\",\"l\",\"l\",\"o\"]))"
   ]
  },
  {
   "cell_type": "code",
   "execution_count": 19,
   "metadata": {},
   "outputs": [
    {
     "name": "stdout",
     "output_type": "stream",
     "text": [
      "['o', 'l', 'l', 'e', 'h']\n"
     ]
    }
   ],
   "source": [
    "s = [\"h\",\"e\",\"l\",\"l\",\"o\"]\n",
    "s.reverse()\n",
    "print(s)"
   ]
  },
  {
   "cell_type": "code",
   "execution_count": 33,
   "metadata": {},
   "outputs": [
    {
     "name": "stdout",
     "output_type": "stream",
     "text": [
      "5264\n"
     ]
    }
   ],
   "source": [
    "# 3,2,6,5,1,4,8,9\n",
    "a = [1,2,6,5,2,4,8,7]\n",
    "# b = sum(a[i]) for i in range(len(a))\n",
    "x, y = a.index(5), a.index(8)\n",
    "c = sum(a[:x] + a[y+1:])\n",
    "d = a[x:y+1]\n",
    "# e = ''.join(str(d))\n",
    "f = int(''.join(map(str, d)))\n",
    "print(f+c)\n",
    "# print(f)"
   ]
  },
  {
   "cell_type": "code",
   "execution_count": 25,
   "metadata": {},
   "outputs": [
    {
     "name": "stdout",
     "output_type": "stream",
     "text": [
      "Robert:36787,Tina:68721,Jo:56389\n",
      "tiX\n"
     ]
    }
   ],
   "source": [
    "# - Robert:36787,Tina:68721,Jo:56389\n",
    "t_input = input().split(',')\n",
    "final_str = ''\n",
    "# print(t_input)\n",
    "for item in t_input:\n",
    "    temp = item.split(':')\n",
    "    name, number = temp[0], temp[1]\n",
    "    max = 0\n",
    "    for n in number:\n",
    "        if(int(n)<=len(name)):\n",
    "            if(max<int(n)):\n",
    "                max=int(n)\n",
    "    if max==0:\n",
    "        final_str += 'X'\n",
    "    else:\n",
    "        final_str += name[max-1]\n",
    "print(final_str)"
   ]
  },
  {
   "cell_type": "code",
   "execution_count": 50,
   "metadata": {},
   "outputs": [
    {
     "name": "stdout",
     "output_type": "stream",
     "text": [
      "rhdt:246,ghftd:1246\n",
      "t r h d\n",
      "f t d g h\n"
     ]
    }
   ],
   "source": [
    "# rhdt:246,ghftd:1246\n",
    "n_input = input().split(',')\n",
    "for item in n_input:\n",
    "    temp = item.split(':')\n",
    "    name, number = temp[0], temp[1]\n",
    "    a = sum([int(i)*int(i) for i in number])\n",
    "    if a%2==0:\n",
    "        print(' '.join(name[-1:] + name[:-1]))\n",
    "    else:\n",
    "        print(' '.join(name[2:] + name[:2]))"
   ]
  },
  {
   "cell_type": "code",
   "execution_count": 52,
   "metadata": {},
   "outputs": [
    {
     "name": "stdout",
     "output_type": "stream",
     "text": [
      "{1, 2, -1, -2}\n"
     ]
    }
   ],
   "source": [
    "print(set([1, 2, -1, -2]))"
   ]
  },
  {
   "cell_type": "code",
   "execution_count": 58,
   "metadata": {},
   "outputs": [
    {
     "name": "stdout",
     "output_type": "stream",
     "text": [
      "11\n"
     ]
    }
   ],
   "source": [
    "s = sum(list(map(int, str(452))))\n",
    "print(s)"
   ]
  },
  {
   "cell_type": "code",
   "execution_count": 65,
   "metadata": {},
   "outputs": [
    {
     "name": "stdout",
     "output_type": "stream",
     "text": [
      "4\n",
      "42 54 2\n",
      "30 24 27\n",
      "180 190 40\n",
      "11 121 13\n",
      "42 54\n",
      "30 24\n",
      "54 2\n",
      "24 27\n",
      "30 24\n",
      "180 190\n",
      "24 27\n",
      "190 40\n"
     ]
    }
   ],
   "source": [
    "# N=4\n",
    "# 42 54 2\n",
    "# 30 24 27\n",
    "# 180 190 40\n",
    "# 11 121 13\n",
    "def check(n):\n",
    "    l = sum(list(map(int, str(n))))\n",
    "    if n%l==0:\n",
    "        return True\n",
    "    else:\n",
    "        return False\n",
    "\n",
    "row = int(input())\n",
    "matrix = [list(map(int, input().split())) for _ in range(row)]\n",
    "# print(n_list)\n",
    "col = len(matrix[0])\n",
    "for i in range(row-1):\n",
    "    for j in range(col-1):\n",
    "        if check(matrix[i][j]) and check(matrix[i][j+1]) and check(matrix[i+1][j]) and check(matrix[i+1][j+1]):\n",
    "            print(matrix[i][j], matrix[i][j+1])\n",
    "            print(matrix[i+1][j], matrix[i+1][j+1])"
   ]
  },
  {
   "cell_type": "code",
   "execution_count": 66,
   "metadata": {},
   "outputs": [
    {
     "name": "stdout",
     "output_type": "stream",
     "text": [
      "237\n",
      "969\n"
     ]
    }
   ],
   "source": [
    "# pallindrome\n",
    "n = input()\n",
    "while True:\n",
    "    n = str(int(n) + int(n[::-1]))\n",
    "    if n==n[::-1]:\n",
    "        print(n)\n",
    "        break"
   ]
  },
  {
   "cell_type": "code",
   "execution_count": 68,
   "metadata": {},
   "outputs": [
    {
     "name": "stdout",
     "output_type": "stream",
     "text": [
      "1,4,1\n",
      "411,3\n"
     ]
    }
   ],
   "source": [
    "# find largest of 3 number\n",
    "from itertools import permutations\n",
    "l = input().split(',')\n",
    "b= sorted(l)\n",
    "a = str(b[-1]) + str(b[-2]) + str(b[-3])\n",
    "p=set(permutations(b,3))\n",
    "print(a, len(p), sep=',')"
   ]
  },
  {
   "cell_type": "code",
   "execution_count": 104,
   "metadata": {},
   "outputs": [
    {
     "name": "stdout",
     "output_type": "stream",
     "text": [
      "2\n",
      "1,2,4,4,5,5,6,6\n",
      "3\n"
     ]
    }
   ],
   "source": [
    "# 1,2,4,4,5,5\n",
    "N = int(input())\n",
    "n = list(map(int, input().split(',')))\n",
    "s = n[N:]\n",
    "print(len(set(s)))"
   ]
  },
  {
   "cell_type": "code",
   "execution_count": 105,
   "metadata": {},
   "outputs": [
    {
     "name": "stdout",
     "output_type": "stream",
     "text": [
      "rhdt:246,ghftd:1246\n",
      "trhd\n",
      "ftdgh\n"
     ]
    }
   ],
   "source": [
    "# rhdt:246,ghftd:1246\n",
    "n = input().split(',')\n",
    "for item in n:\n",
    "    temp = item.split(':')\n",
    "    s = sum([int(i)*int(i) for i in temp[1]])\n",
    "    if s%2==0:\n",
    "        print(''.join(temp[0][-1:] + temp[0][:-1]))\n",
    "    else:\n",
    "        print(''.join(temp[0][2:] + temp[0][:2]))"
   ]
  },
  {
   "cell_type": "code",
   "execution_count": 111,
   "metadata": {},
   "outputs": [
    {
     "name": "stdout",
     "output_type": "stream",
     "text": [
      "Hello#81@21349\n",
      "984312\n"
     ]
    }
   ],
   "source": [
    "# largest even number\n",
    "import itertools\n",
    "s = input()\n",
    "ss = set()\n",
    "m=-1\n",
    "for i in s:\n",
    "    if i.isdigit():\n",
    "        ss.add(i)\n",
    "ll = list(itertools.permutations(ss,len(ss)))\n",
    "for i in ll:\n",
    "    k=''.join(i)\n",
    "    if int(k)%2==0 and int(k)>m:\n",
    "        m=int(k)\n",
    "print(m)"
   ]
  },
  {
   "cell_type": "code",
   "execution_count": 114,
   "metadata": {},
   "outputs": [
    {
     "name": "stdout",
     "output_type": "stream",
     "text": [
      "6\n",
      "2 3 4 5 6 2 4 3 2 3 4 7 6 7 6 2 2 3 5 5 5 5 2 5 2 3 1 1 2 1 3 6 1 1 1 1 9 0 3 5 2 3 1 1 5 1 2 7\n",
      "2 3 4 5 6 2 4 3 2 3 4 7 6 7 6 2 2 3 5 5 5 5 2 5 2 3 1 1 2 1 3 6 1 1 1 1 9 0 3 5 2 3 1 1 5 1 2 7\n",
      "2 3 4 5 6 2 4 3 2 3 4 7 6 7 6 2 2 3 5 5 5 5 2 5 2 3 1 1 2 1 3 6 1 1 1 1 9 0 3 5 2 3 1 1 5 1 2 7\n",
      "2 3 4 5 6 2 4 3 2 3 4 7 6 7 6 2 2 3 5 5 5 5 2 5 2 3 1 1 2 1 3 6 1 1 1 1 9 0 3 5 2 3 1 1 5 1 2 7\n",
      "2 3 4 5 6 2 4 3 2 3 4 7 6 7 6 2 2 3 5 5 5 5 2 5 2 3 1 1 2 1 3 6 1 1 1 1 9 0 3 5 2 3 1 1 5 1 2 7\n",
      "2 3 4 5 6 2 4 3 2 3 4 7 6 7 6 2 2 3 5 5 5 5 2 5 2 3 1 1 2 1 3 6 1 1 1 1 9 0 3 5 2 3 1 1 5 1 2 7\n",
      "0\n"
     ]
    }
   ],
   "source": [
    "# Read ‘m’ and ‘n’ matrix problem\n",
    "row = int(input())\n",
    "mat = [list(map(int, input().split())) for _ in range(row)]\n",
    "# print(mat)\n",
    "col= len(mat[0])\n",
    "out=[]\n",
    "for r in range(row):\n",
    "    for c in range(col-2):\n",
    "        if mat[r][c]==mat[r][c+1]==mat[r][c+2]:\n",
    "            out.append(mat[r][c])\n",
    "\n",
    "for r in range(row-2):\n",
    "    for c in range(col):\n",
    "        if mat[r][c]==mat[r+1][c]==mat[r+2][c]:\n",
    "            out.append(mat[r][c])\n",
    "\n",
    "for r in range(row-2):\n",
    "    for c in range(col-2):\n",
    "        if mat[r][c]==mat[r+1][c+1]==mat[r+2][c+2]:\n",
    "            out.append(mat[r][c])\n",
    "# print(out)\n",
    "print(min(out))"
   ]
  },
  {
   "cell_type": "code",
   "execution_count": 119,
   "metadata": {},
   "outputs": [
    {
     "name": "stdout",
     "output_type": "stream",
     "text": [
      "3,5,8,2,19,12,7,11\n",
      "[2, 3, 5, 8]\n"
     ]
    }
   ],
   "source": [
    "#max subarray from list\n",
    "aa = list(map(int,input().split(',')))\n",
    "aa=sorted(aa)\n",
    "j = []\n",
    "\n",
    "j.append(aa[0])\n",
    "j.append(aa[1])\n",
    "# print(j)\n",
    "for i in range(2,len(aa)):\n",
    "    if j[i-1]+j[i-2] in aa:\n",
    "        j.append(j[i-1]+j[i-2])\n",
    "    else:\n",
    "        break\n",
    "\n",
    "print(j)"
   ]
  },
  {
   "cell_type": "code",
   "execution_count": 120,
   "metadata": {},
   "outputs": [
    {
     "name": "stdout",
     "output_type": "stream",
     "text": [
      "A@bcd1abx\n",
      "A@bcd1\n"
     ]
    }
   ],
   "source": [
    "# unique substring\n",
    "s = input()\n",
    "b=''\n",
    "for i in range(len(s)):\n",
    "    if s[i].lower() in b or s[i].upper() in b:\n",
    "        break\n",
    "    else:\n",
    "        b+=s[i]\n",
    "print(b)"
   ]
  },
  {
   "cell_type": "code",
   "execution_count": 128,
   "metadata": {},
   "outputs": [
    {
     "name": "stdout",
     "output_type": "stream",
     "text": [
      "123\n",
      "131\n"
     ]
    }
   ],
   "source": [
    "# nearest pallindrome\n",
    "n = input()\n",
    "while True:\n",
    "    if n==n[::-1]:\n",
    "        print(int(n))\n",
    "        break\n",
    "    n = str(int(n)+1)"
   ]
  },
  {
   "cell_type": "code",
   "execution_count": 130,
   "metadata": {},
   "outputs": [
    {
     "name": "stdout",
     "output_type": "stream",
     "text": [
      "134567\n",
      "1925\n"
     ]
    }
   ],
   "source": [
    "# OTP generation\n",
    "n=input()\n",
    "L=['0','1','4','9','16','25','36','49','64','81','100']\n",
    "s=''\n",
    "for i in n:\n",
    "    if int(i)%2==0:\n",
    "        continue\n",
    "    else:\n",
    "        s+=L[int(i)]\n",
    "print(s[:4])"
   ]
  },
  {
   "cell_type": "code",
   "execution_count": 131,
   "metadata": {},
   "outputs": [
    {
     "name": "stdout",
     "output_type": "stream",
     "text": [
      "12665042\n",
      "['1', '12', '126', '1266', '12665', '126650', '1266504', '12665042', '2', '26', '266', '2665', '26650', '266504', '2665042', '6', '66', '665', '6650', '66504', '665042', '6', '65', '650', '6504', '65042', '5', '50', '504', '5042', '0', '04', '042', '4', '42', '2']\n",
      "[2, 6, 12, 42, 650]\n"
     ]
    }
   ],
   "source": [
    "# pronic number\n",
    "def pronic(n):\n",
    "    for i in range(1,(n//2)+1):\n",
    "        if i*(i+1)==n:\n",
    "            return True\n",
    "    return False\n",
    "x = input()\n",
    "ara = [x[i:j+1] for i in range(len(x)) for j in range(i,len(x))]\n",
    "print(ara)\n",
    "final =set()\n",
    "for i in ara:\n",
    "    if pronic(int(i)):\n",
    "        final.add(int(i))\n",
    "print(sorted(final))"
   ]
  },
  {
   "cell_type": "code",
   "execution_count": 135,
   "metadata": {},
   "outputs": [
    {
     "name": "stdout",
     "output_type": "stream",
     "text": [
      "-1,1,0,0,2,-2\n",
      "0\n",
      "3\n"
     ]
    }
   ],
   "source": [
    "from itertools import combinations\n",
    "ara = list(map(int,input().split(\",\")))\n",
    "s = int(input())\n",
    "l=list(combinations(ara,4))\n",
    "# print(l)\n",
    "c=0\n",
    "for i in l:\n",
    "    a = sum(i)\n",
    "    if a == s:\n",
    "        c+=1\n",
    "\n",
    "print(c)"
   ]
  },
  {
   "cell_type": "code",
   "execution_count": 138,
   "metadata": {},
   "outputs": [
    {
     "name": "stdout",
     "output_type": "stream",
     "text": [
      "moomso\n",
      "['m', 'mo', 'moo', 'moom', 'mooms', 'moomso', 'o', 'oo', 'oom', 'ooms', 'oomso', 'o', 'om', 'oms', 'omso', 'm', 'ms', 'mso', 's', 'so', 'o']\n",
      "moom\n"
     ]
    }
   ],
   "source": [
    "# longest palindrome substring from a string\n",
    "s = input()\n",
    "ara = [s[i:j+1] for i in range(len(s)) for j in range(i,len(s))]\n",
    "print(ara)\n",
    "l=0\n",
    "out=\"\"\n",
    "for i in ara:\n",
    "    rev= i[::-1]\n",
    "    if i == rev and len(i)>l:\n",
    "        l=len(i)\n",
    "        out=i\n",
    "print(out)"
   ]
  },
  {
   "cell_type": "code",
   "execution_count": 143,
   "metadata": {},
   "outputs": [
    {
     "name": "stdout",
     "output_type": "stream",
     "text": [
      "[]{{{{}\n",
      "Not Balanced\n"
     ]
    }
   ],
   "source": [
    "def fn():    \n",
    "    s=input()\n",
    "    stack=[]\n",
    "    if s[0]=='}'or ']' or ')':\n",
    "        print(\"Not Balanced\")\n",
    "        return\n",
    "    else:\n",
    "        for i in range(len(s)):\n",
    "            if s[i]=='[' or '(' or '{':\n",
    "                stack.append(s[i])\n",
    "            elif s[i]==']' and stack[-1]=='[':\n",
    "                stack.pop()\n",
    "            elif s[i]=='}' and stack[-1]=='{':\n",
    "                stack.pop()\n",
    "            elif s[i]==')' and stack[-1]=='(':\n",
    "                stack.pop()\n",
    "            else:\n",
    "                print('Not balanced')\n",
    "                return \n",
    "\n",
    "    print('Not balanced' if len(stack)>0 else \"Balanced\")\n",
    "fn()\n"
   ]
  },
  {
   "cell_type": "code",
   "execution_count": 144,
   "metadata": {},
   "outputs": [],
   "source": [
    "from itertools import product\n",
    "a, b, c = [1, 2, 3], [4, 5], [6, 7, 8]\n",
    "x = list(product(a,b,c))"
   ]
  },
  {
   "cell_type": "code",
   "execution_count": null,
   "metadata": {},
   "outputs": [],
   "source": []
  },
  {
   "cell_type": "code",
   "execution_count": null,
   "metadata": {},
   "outputs": [],
   "source": []
  },
  {
   "cell_type": "code",
   "execution_count": null,
   "metadata": {},
   "outputs": [],
   "source": []
  },
  {
   "cell_type": "code",
   "execution_count": null,
   "metadata": {},
   "outputs": [],
   "source": []
  },
  {
   "cell_type": "code",
   "execution_count": null,
   "metadata": {},
   "outputs": [],
   "source": []
  },
  {
   "cell_type": "code",
   "execution_count": null,
   "metadata": {},
   "outputs": [],
   "source": []
  }
 ],
 "metadata": {
  "kernelspec": {
   "display_name": "Python 3",
   "language": "python",
   "name": "python3"
  },
  "language_info": {
   "codemirror_mode": {
    "name": "ipython",
    "version": 3
   },
   "file_extension": ".py",
   "mimetype": "text/x-python",
   "name": "python",
   "nbconvert_exporter": "python",
   "pygments_lexer": "ipython3",
   "version": "3.7.3"
  }
 },
 "nbformat": 4,
 "nbformat_minor": 4
}
