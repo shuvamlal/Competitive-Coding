{
 "cells": [
  {
   "cell_type": "code",
   "execution_count": 5,
   "metadata": {},
   "outputs": [],
   "source": [
    "class Node:\n",
    "    def __init__(self, value):\n",
    "        self.value = value\n",
    "        self.next = None"
   ]
  },
  {
   "cell_type": "code",
   "execution_count": 3,
   "metadata": {},
   "outputs": [],
   "source": [
    "class LinkedList:\n",
    "    def __init__(self):\n",
    "        self.head = None\n",
    "        \n",
    "    def append(self, value):\n",
    "        if self.head is None:\n",
    "            self.head = Node(value)\n",
    "            return\n",
    "        \n",
    "        # Move to the tail (the last node)\n",
    "        node = self.head\n",
    "        while node.next:\n",
    "            node = node.next\n",
    "        \n",
    "        node.next = Node(value)\n",
    "        return\n",
    "    \n",
    "    def to_list(self):\n",
    "        \n",
    "        # TODO: Write function to turn Linked List into Python List\n",
    "        final = []\n",
    "        temp = self.head\n",
    "        while temp:\n",
    "            final.append(temp.value)\n",
    "            temp = temp.next\n",
    "        return final"
   ]
  },
  {
   "cell_type": "code",
   "execution_count": 63,
   "metadata": {},
   "outputs": [],
   "source": [
    "## Inserting elements to the LinkedList\n",
    "if __name__ == '__main__':\n",
    "    llist = None\n",
    "    for num in range(10):\n",
    "        if llist is None:\n",
    "            llist = Node(num)\n",
    "        else:\n",
    "            curr = llist\n",
    "            while curr.next:\n",
    "                curr = curr.next\n",
    "            curr.next = Node(num)"
   ]
  },
  {
   "cell_type": "markdown",
   "metadata": {},
   "source": [
    "1. Count the nodes using recursion"
   ]
  },
  {
   "cell_type": "code",
   "execution_count": 47,
   "metadata": {},
   "outputs": [
    {
     "name": "stdout",
     "output_type": "stream",
     "text": [
      "10\n"
     ]
    }
   ],
   "source": [
    "def getCount(head):\n",
    "    if head is None:\n",
    "        return 0\n",
    "    return 1 + getCount(head.next)\n",
    "\n",
    "print(getCount(llist))"
   ]
  },
  {
   "cell_type": "markdown",
   "metadata": {},
   "source": [
    "2. Reversing a LinkedList"
   ]
  },
  {
   "cell_type": "code",
   "execution_count": 65,
   "metadata": {},
   "outputs": [],
   "source": [
    "def reverse(head): \n",
    "    # If head is empty or has reached the list end \n",
    "    if head is None or head.next is None: \n",
    "        return head \n",
    "\n",
    "    # Reverse the rest list \n",
    "    rest = reverse(head.next) \n",
    "\n",
    "    # Put first element at the end \n",
    "    head.next.next = head \n",
    "    head.next = None\n",
    "\n",
    "    # Fix the header pointer \n",
    "    return rest\n",
    "\n",
    "curr = reverse(llist)\n",
    "while curr:\n",
    "    print(curr.data)\n",
    "    curr = curr.next"
   ]
  },
  {
   "cell_type": "markdown",
   "metadata": {},
   "source": [
    "3. Detect and remove loop in LinkedList"
   ]
  },
  {
   "cell_type": "markdown",
   "metadata": {},
   "source": [
    "4. Add two numbers represent by LinkedLists"
   ]
  },
  {
   "cell_type": "code",
   "execution_count": 10,
   "metadata": {},
   "outputs": [
    {
     "data": {
      "text/plain": [
       "[2, 4, 7, 4, 7, 5]"
      ]
     },
     "execution_count": 10,
     "metadata": {},
     "output_type": "execute_result"
    }
   ],
   "source": [
    "## Inserting elements to the LinkedList\n",
    "llist1 = LinkedList()\n",
    "llist1.append(2)\n",
    "llist1.append(4)\n",
    "llist1.append(7)\n",
    "\n",
    "llist2 = LinkedList()\n",
    "llist2.append(4)\n",
    "llist2.append(7)\n",
    "llist2.append(5)\n",
    "            \n",
    "curr = llist1.head\n",
    "while curr.next:\n",
    "    curr = curr.next\n",
    "curr.next = llist2.head\n",
    "llist1.to_list()"
   ]
  },
  {
   "cell_type": "code",
   "execution_count": 3,
   "metadata": {},
   "outputs": [
    {
     "name": "stdout",
     "output_type": "stream",
     "text": [
      "7\n"
     ]
    }
   ],
   "source": [
    "a = 5\n",
    "b = 7 if a==5 else 0\n",
    "print(b)"
   ]
  },
  {
   "cell_type": "code",
   "execution_count": null,
   "metadata": {},
   "outputs": [],
   "source": [
    "llist1, llist2 = None, None\n",
    "\n",
    "llist1 = Node(3)"
   ]
  },
  {
   "cell_type": "code",
   "execution_count": null,
   "metadata": {},
   "outputs": [],
   "source": []
  },
  {
   "cell_type": "code",
   "execution_count": null,
   "metadata": {},
   "outputs": [],
   "source": []
  },
  {
   "cell_type": "code",
   "execution_count": null,
   "metadata": {},
   "outputs": [],
   "source": [
    "# all packages belong here\n",
    "\n",
    "# from here starts the main funtion\n",
    "def main():\n",
    "    pass\n",
    "\n",
    "\n",
    "if __name__== '__main__':\n",
    "    main()"
   ]
  },
  {
   "cell_type": "code",
   "execution_count": null,
   "metadata": {},
   "outputs": [],
   "source": []
  },
  {
   "cell_type": "code",
   "execution_count": null,
   "metadata": {},
   "outputs": [],
   "source": []
  },
  {
   "cell_type": "code",
   "execution_count": null,
   "metadata": {},
   "outputs": [],
   "source": []
  },
  {
   "cell_type": "code",
   "execution_count": null,
   "metadata": {},
   "outputs": [],
   "source": []
  },
  {
   "cell_type": "code",
   "execution_count": null,
   "metadata": {},
   "outputs": [],
   "source": []
  },
  {
   "cell_type": "code",
   "execution_count": null,
   "metadata": {},
   "outputs": [],
   "source": []
  },
  {
   "cell_type": "code",
   "execution_count": null,
   "metadata": {},
   "outputs": [],
   "source": []
  },
  {
   "cell_type": "code",
   "execution_count": null,
   "metadata": {},
   "outputs": [],
   "source": []
  },
  {
   "cell_type": "code",
   "execution_count": null,
   "metadata": {},
   "outputs": [],
   "source": []
  },
  {
   "cell_type": "code",
   "execution_count": null,
   "metadata": {},
   "outputs": [],
   "source": []
  },
  {
   "cell_type": "code",
   "execution_count": null,
   "metadata": {},
   "outputs": [],
   "source": []
  }
 ],
 "metadata": {
  "kernelspec": {
   "display_name": "Python 3",
   "language": "python",
   "name": "python3"
  },
  "language_info": {
   "codemirror_mode": {
    "name": "ipython",
    "version": 3
   },
   "file_extension": ".py",
   "mimetype": "text/x-python",
   "name": "python",
   "nbconvert_exporter": "python",
   "pygments_lexer": "ipython3",
   "version": "3.7.3"
  }
 },
 "nbformat": 4,
 "nbformat_minor": 4
}
