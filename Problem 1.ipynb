{
 "cells": [
  {
   "cell_type": "markdown",
   "metadata": {},
   "source": [
    "https://codeforces.com/gym/102388/problem/D"
   ]
  },
  {
   "cell_type": "code",
   "execution_count": 55,
   "metadata": {},
   "outputs": [],
   "source": [
    "def encode1(text):\n",
    "    x = ''.join([x.lower() if x.isupper() else x.upper() for x in text])\n",
    "    return x"
   ]
  },
  {
   "cell_type": "code",
   "execution_count": 56,
   "metadata": {},
   "outputs": [],
   "source": [
    "def encode2(text):\n",
    "    x = ''.join(reversed(text))\n",
    "    return x"
   ]
  },
  {
   "cell_type": "code",
   "execution_count": 57,
   "metadata": {},
   "outputs": [],
   "source": [
    "def encode3(text):\n",
    "    x = ''.join([chr((ord(x) - 97 - 13) % 26 + 97) if x.islower() else chr((ord(x) - 65 - 13) % 26 + 65) for x in text])\n",
    "    return x"
   ]
  },
  {
   "cell_type": "code",
   "execution_count": 54,
   "metadata": {},
   "outputs": [
    {
     "name": "stdout",
     "output_type": "stream",
     "text": [
      "3\n",
      "HelloWorld\n",
      "QYEBjBYYRu\n",
      "pcpvBgRZBPYRj\n",
      "QYEBjBYYRu\n",
      "HelloWorld\n",
      "WelcomeToICPC\n"
     ]
    }
   ],
   "source": [
    "n = int(input())\n",
    "x, final = list(), list()\n",
    "for _ in range(n):\n",
    "    x.append(input())\n",
    "for i in x:\n",
    "    out = encode1(i)\n",
    "    out1 = encode2(out)\n",
    "    out2 = encode3(out1)\n",
    "    print(out2)\n",
    "# print(out2)"
   ]
  }
 ],
 "metadata": {
  "kernelspec": {
   "display_name": "Python 3",
   "language": "python",
   "name": "python3"
  },
  "language_info": {
   "codemirror_mode": {
    "name": "ipython",
    "version": 3
   },
   "file_extension": ".py",
   "mimetype": "text/x-python",
   "name": "python",
   "nbconvert_exporter": "python",
   "pygments_lexer": "ipython3",
   "version": "3.7.3"
  }
 },
 "nbformat": 4,
 "nbformat_minor": 2
}
