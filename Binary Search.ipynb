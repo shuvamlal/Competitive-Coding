{
 "cells": [
  {
   "cell_type": "markdown",
   "metadata": {},
   "source": [
    "1. Number of times a sorted array rotated"
   ]
  },
  {
   "cell_type": "code",
   "execution_count": 2,
   "metadata": {},
   "outputs": [
    {
     "name": "stdout",
     "output_type": "stream",
     "text": [
      "7\n"
     ]
    }
   ],
   "source": [
    "def bSearchSorted(arr, start, end):\n",
    "    if start > end:\n",
    "        return -1\n",
    "    mid = start + (end-start)//2\n",
    "    if mid+1 == len(arr)-1 and arr[mid] > arr[mid-1]:\n",
    "        return mid+1\n",
    "    if arr[mid] < arr[mid-1] and arr[mid] < arr[mid+1]:\n",
    "        return mid\n",
    "    elif arr[start] > arr[mid-1]:\n",
    "        # start = mid+1\n",
    "        return bSearch(arr, start, mid-1)\n",
    "    else:\n",
    "        # end = mid-1\n",
    "        return bSearch(arr, mid+1, end)\n",
    "    \n",
    "def main():\n",
    "    s = [2,3,4,5,6,7,8,1]\n",
    "    \n",
    "    start, end = 0, len(s)-1\n",
    "    print(bSearch(s, start, end))\n",
    "\n",
    "if __name__:\n",
    "    main()"
   ]
  },
  {
   "cell_type": "markdown",
   "metadata": {},
   "source": [
    "2. Find an element in sorted array rotated"
   ]
  },
  {
   "cell_type": "code",
   "execution_count": 16,
   "metadata": {},
   "outputs": [
    {
     "name": "stdout",
     "output_type": "stream",
     "text": [
      "2\n"
     ]
    }
   ],
   "source": [
    "def bSearch(arr, target, start, end):\n",
    "    if start > end:\n",
    "        return -1\n",
    "    mid = start + (end-start)//2\n",
    "    if arr[mid] == target:\n",
    "        return mid\n",
    "    elif arr[mid] < target:\n",
    "        return bSearch(arr, target, mid+1, end)\n",
    "    else:\n",
    "        return bSearch(arr, target, start, mid-1)\n",
    "\n",
    "def main():\n",
    "    s = [6,7,8,9,1,2,3,4,5]\n",
    "    target = 8\n",
    "    start, end = 0, len(s)-1\n",
    "    pivot = bSearchSorted(s, start, end)\n",
    "#     print(pivot)\n",
    "    check1 = bSearch(s, target, start, pivot-1)\n",
    "    check2 = bSearch(s, target, pivot, len(s)-1)\n",
    "#     print(check1, check2)\n",
    "    if check1 == -1 and check2 == -1:\n",
    "        print(-1)\n",
    "    elif check1 == -1:\n",
    "        print(check2)\n",
    "    else:\n",
    "        print(check1)\n",
    "    \n",
    "if __name__:\n",
    "    main()"
   ]
  },
  {
   "cell_type": "markdown",
   "metadata": {},
   "source": [
    "3. Find an element in a nearly sorted array"
   ]
  },
  {
   "cell_type": "code",
   "execution_count": 24,
   "metadata": {},
   "outputs": [
    {
     "name": "stdout",
     "output_type": "stream",
     "text": [
      "3\n"
     ]
    }
   ],
   "source": [
    "def bNearlySorted(arr, target, start, end):\n",
    "    if start > end:\n",
    "        return -1\n",
    "    mid = start + (end-start)//2\n",
    "    if arr[mid] == target:\n",
    "        return mid\n",
    "    elif arr[mid-1] == target and mid-1 >= start:\n",
    "        return mid-1\n",
    "    elif arr[mid+1] == target and mid+1 <= end:\n",
    "        return mid+1\n",
    "    elif arr[mid] < target:\n",
    "        return bNearlySorted(arr, target, mid+2, end)\n",
    "    else:\n",
    "        return bNearlySorted(arr, target, start, mid-2)\n",
    "\n",
    "def main():\n",
    "    s = [1,2,3,4,7,6,8,9]\n",
    "    target = 4\n",
    "    start, end = 0, len(s)-1\n",
    "    print(bNearlySorted(s, target, start, end))\n",
    "    \n",
    "if __name__:\n",
    "    main()"
   ]
  },
  {
   "cell_type": "markdown",
   "metadata": {},
   "source": [
    "4. Find Floor of element in sorted array"
   ]
  },
  {
   "cell_type": "code",
   "execution_count": 37,
   "metadata": {},
   "outputs": [
    {
     "name": "stdout",
     "output_type": "stream",
     "text": [
      "8\n"
     ]
    }
   ],
   "source": [
    "def checkFloor(arr, target, start, end):\n",
    "    if start > end:\n",
    "        return -1\n",
    "    mid = start + (end-start)//2\n",
    "    if arr[mid] == target:\n",
    "        return mid\n",
    "    elif arr[mid] < target:\n",
    "        ans = mid\n",
    "        check =  checkFloor(arr, target, mid+1, end)\n",
    "        if check != -1:\n",
    "            temp = check\n",
    "        else:\n",
    "            temp = ans\n",
    "        return temp\n",
    "    elif arr[mid] > target:\n",
    "        return checkFloor(arr, target, start, mid-1)\n",
    "\n",
    "def main():\n",
    "    s = [1,2,3,4,5,9,10,11,12]\n",
    "    target = 13\n",
    "    start, end = 0, len(s)-1\n",
    "    print(checkFloor(s, target, start, end))\n",
    "    \n",
    "if __name__:\n",
    "    main()"
   ]
  },
  {
   "cell_type": "markdown",
   "metadata": {},
   "source": [
    "5. Find ceil of an element in sorted array."
   ]
  },
  {
   "cell_type": "code",
   "execution_count": 9,
   "metadata": {},
   "outputs": [
    {
     "name": "stdout",
     "output_type": "stream",
     "text": [
      "0\n"
     ]
    }
   ],
   "source": [
    "def checkCeil(arr, target, start, end):\n",
    "    if start > end:\n",
    "        return -1\n",
    "    mid = start + (end-start)//2\n",
    "    if arr[mid] == target:\n",
    "        return mid\n",
    "    elif arr[mid] > target:\n",
    "        ans = mid\n",
    "        check =  checkCeil(arr, target, start, mid-1)\n",
    "        if check != -1:\n",
    "            temp = check\n",
    "        else:\n",
    "            temp = ans\n",
    "        return temp\n",
    "    elif arr[mid] < target:\n",
    "        return checkCeil(arr, target, mid+1, end)\n",
    "\n",
    "def main():\n",
    "    s = [2,3,4,5,9,10,11,12]\n",
    "    target = 1\n",
    "    start, end = 0, len(s)-1\n",
    "    print(checkCeil(s, target, start, end))\n",
    "    \n",
    "if __name__:\n",
    "    main()"
   ]
  },
  {
   "cell_type": "markdown",
   "metadata": {},
   "source": [
    "6. Find position of an element in Infinite sorted array."
   ]
  },
  {
   "cell_type": "code",
   "execution_count": 13,
   "metadata": {},
   "outputs": [
    {
     "name": "stdout",
     "output_type": "stream",
     "text": [
      "1\n"
     ]
    }
   ],
   "source": [
    "def checkPosition(arr, target, start, end):\n",
    "    if start > end:\n",
    "        return -1\n",
    "    mid = start + (end-start)//2\n",
    "    if arr[end] > target:\n",
    "        return start, end\n",
    "    else:\n",
    "        return checkPosition(arr, target, end, end*2)\n",
    "        \n",
    "def bSearch(arr, target, start, end):\n",
    "    if start > end:\n",
    "        return -1\n",
    "    mid = start + (end-start)//2\n",
    "    if arr[mid] == target:\n",
    "        return mid\n",
    "    elif arr[mid] < target:\n",
    "        return bSearch(arr, target, mid+1, end)\n",
    "    else:\n",
    "        return bSearch(arr, target, start, mid-1)\n",
    "    \n",
    "def main():\n",
    "    s = [1,2,3,4,5,6,7,8,9,10,11,12,13]\n",
    "    target = 2\n",
    "    low, next = 0, 1\n",
    "    start, end = checkPosition(s, target, low, next)\n",
    "    print(bSearch(s, target, start, end))\n",
    "    \n",
    "if __name__:\n",
    "    main()"
   ]
  },
  {
   "cell_type": "markdown",
   "metadata": {},
   "source": [
    "7. Index of First 1 in a Binary Sorted array."
   ]
  },
  {
   "cell_type": "code",
   "execution_count": 19,
   "metadata": {},
   "outputs": [
    {
     "name": "stdout",
     "output_type": "stream",
     "text": [
      "10\n"
     ]
    }
   ],
   "source": [
    "def checkPosition(arr, start=0, end=1):\n",
    "    if start > end:\n",
    "        return -1\n",
    "    if arr[end] == 1:\n",
    "        return start, end\n",
    "    else:\n",
    "        return checkPosition(arr, end, end*2)\n",
    "    \n",
    "def firstOccurance(arr, start, end):\n",
    "    if start > end:\n",
    "        return -1\n",
    "    mid = start + (end-start)//2\n",
    "    if arr[mid] == 1:\n",
    "        ans = mid\n",
    "        check = firstOccurance(arr, start, mid-1)\n",
    "        if check != -1:\n",
    "            temp = check\n",
    "        else:\n",
    "            temp = ans\n",
    "        return temp\n",
    "    elif arr[mid] < 1:\n",
    "        return firstOccurance(arr, mid+1, end)\n",
    "    else:\n",
    "        return firstOccurance(arr, start, mid-1)\n",
    "    \n",
    "def main():\n",
    "    s = [0,0,0,0,0,0,0,0,0,0,1,1,1,1,1,1,1,1,1,1]\n",
    "    start, end = checkPosition(s)\n",
    "    print(firstOccurance(s, start, end))\n",
    "    \n",
    "if __name__:\n",
    "    main()"
   ]
  },
  {
   "cell_type": "markdown",
   "metadata": {},
   "source": [
    "8. Find the highest element"
   ]
  },
  {
   "cell_type": "code",
   "execution_count": 8,
   "metadata": {},
   "outputs": [
    {
     "name": "stdout",
     "output_type": "stream",
     "text": [
      "1\n",
      "4\n",
      "1 2 3 4 5\n",
      "None\n"
     ]
    }
   ],
   "source": [
    "#code\n",
    "def peakElementRight(arr, start, end):\n",
    "    if start > end:\n",
    "        return -1\n",
    "    if \n",
    "    mid = start + (end-start)//2\n",
    "    if mid+1 < len(arr) and arr[mid] < arr[mid+1]:\n",
    "        ans = mid\n",
    "        check = peakElementRight(arr, mid+2, end)\n",
    "        if check != -1:\n",
    "            temp = check\n",
    "        else:\n",
    "            temp = ans\n",
    "        return temp\n",
    "        \n",
    "\n",
    "for _ in range(int(input())):\n",
    "    n = int(input())\n",
    "    ls = list(map(int, input().split()))\n",
    "    print(peakElementRight(ls, 0, len(ls)-1))"
   ]
  },
  {
   "cell_type": "code",
   "execution_count": 12,
   "metadata": {},
   "outputs": [
    {
     "name": "stdout",
     "output_type": "stream",
     "text": [
      "6\n"
     ]
    }
   ],
   "source": [
    "## finding maximum element\n",
    "def bsearch(arr, start, end):\n",
    "    if start > end:\n",
    "        return -1\n",
    "    \n",
    "def main():\n",
    "    s = [1,2,3,4,5,6]\n",
    "    print(bsearch(s, 0, len(s)-1))\n",
    "    \n",
    "if __name__:\n",
    "    main()"
   ]
  },
  {
   "cell_type": "code",
   "execution_count": null,
   "metadata": {},
   "outputs": [],
   "source": []
  },
  {
   "cell_type": "code",
   "execution_count": 2,
   "metadata": {},
   "outputs": [
    {
     "name": "stdout",
     "output_type": "stream",
     "text": [
      "349525 699050\n",
      "1099509530625\n"
     ]
    }
   ],
   "source": [
    "a, b = map(int, input().split())\n",
    "print((a|b)**2)"
   ]
  },
  {
   "cell_type": "code",
   "execution_count": null,
   "metadata": {},
   "outputs": [],
   "source": []
  },
  {
   "cell_type": "code",
   "execution_count": null,
   "metadata": {},
   "outputs": [],
   "source": []
  },
  {
   "cell_type": "code",
   "execution_count": null,
   "metadata": {},
   "outputs": [],
   "source": []
  }
 ],
 "metadata": {
  "kernelspec": {
   "display_name": "Python 3",
   "language": "python",
   "name": "python3"
  },
  "language_info": {
   "codemirror_mode": {
    "name": "ipython",
    "version": 3
   },
   "file_extension": ".py",
   "mimetype": "text/x-python",
   "name": "python",
   "nbconvert_exporter": "python",
   "pygments_lexer": "ipython3",
   "version": "3.7.3"
  }
 },
 "nbformat": 4,
 "nbformat_minor": 4
}
