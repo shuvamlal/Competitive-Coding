{
 "cells": [
  {
   "cell_type": "markdown",
   "metadata": {},
   "source": [
    "1. Number of times a sorted array rotated"
   ]
  },
  {
   "cell_type": "code",
   "execution_count": 2,
   "metadata": {},
   "outputs": [
    {
     "name": "stdout",
     "output_type": "stream",
     "text": [
      "7\n"
     ]
    }
   ],
   "source": [
    "def bSearchSorted(arr, start, end):\n",
    "    if start > end:\n",
    "        return -1\n",
    "    mid = start + (end-start)//2\n",
    "    if mid+1 == len(arr)-1 and arr[mid] > arr[mid-1]:\n",
    "        return mid+1\n",
    "    if arr[mid] < arr[mid-1] and arr[mid] < arr[mid+1]:\n",
    "        return mid\n",
    "    elif arr[start] > arr[mid-1]:\n",
    "        # start = mid+1\n",
    "        return bSearch(arr, start, mid-1)\n",
    "    else:\n",
    "        # end = mid-1\n",
    "        return bSearch(arr, mid+1, end)\n",
    "    \n",
    "def main():\n",
    "    s = [2,3,4,5,6,7,8,1]\n",
    "    \n",
    "    start, end = 0, len(s)-1\n",
    "    print(bSearch(s, start, end))\n",
    "\n",
    "if __name__:\n",
    "    main()"
   ]
  },
  {
   "cell_type": "markdown",
   "metadata": {},
   "source": [
    "2. Find an element in sorted array rotated"
   ]
  },
  {
   "cell_type": "code",
   "execution_count": 16,
   "metadata": {},
   "outputs": [
    {
     "name": "stdout",
     "output_type": "stream",
     "text": [
      "2\n"
     ]
    }
   ],
   "source": [
    "def bSearch(arr, target, start, end):\n",
    "    if start > end:\n",
    "        return -1\n",
    "    mid = start + (end-start)//2\n",
    "    if arr[mid] == target:\n",
    "        return mid\n",
    "    elif arr[mid] < target:\n",
    "        return bSearch(arr, target, mid+1, end)\n",
    "    else:\n",
    "        return bSearch(arr, target, start, mid-1)\n",
    "\n",
    "def main():\n",
    "    s = [6,7,8,9,1,2,3,4,5]\n",
    "    target = 8\n",
    "    start, end = 0, len(s)-1\n",
    "    pivot = bSearchSorted(s, start, end)\n",
    "#     print(pivot)\n",
    "    check1 = bSearch(s, target, start, pivot-1)\n",
    "    check2 = bSearch(s, target, pivot, len(s)-1)\n",
    "#     print(check1, check2)\n",
    "    if check1 == -1 and check2 == -1:\n",
    "        print(-1)\n",
    "    elif check1 == -1:\n",
    "        print(check2)\n",
    "    else:\n",
    "        print(check1)\n",
    "    \n",
    "if __name__:\n",
    "    main()"
   ]
  },
  {
   "cell_type": "markdown",
   "metadata": {},
   "source": [
    "3. Find an element in a nearly sorted array"
   ]
  },
  {
   "cell_type": "code",
   "execution_count": 24,
   "metadata": {},
   "outputs": [
    {
     "name": "stdout",
     "output_type": "stream",
     "text": [
      "3\n"
     ]
    }
   ],
   "source": [
    "def bNearlySorted(arr, target, start, end):\n",
    "    if start > end:\n",
    "        return -1\n",
    "    mid = start + (end-start)//2\n",
    "    if arr[mid] == target:\n",
    "        return mid\n",
    "    elif arr[mid-1] == target and mid-1 >= start:\n",
    "        return mid-1\n",
    "    elif arr[mid+1] == target and mid+1 <= end:\n",
    "        return mid+1\n",
    "    elif arr[mid] < target:\n",
    "        return bNearlySorted(arr, target, mid+2, end)\n",
    "    else:\n",
    "        return bNearlySorted(arr, target, start, mid-2)\n",
    "\n",
    "def main():\n",
    "    s = [1,2,3,4,7,6,8,9]\n",
    "    target = 4\n",
    "    start, end = 0, len(s)-1\n",
    "    print(bNearlySorted(s, target, start, end))\n",
    "    \n",
    "if __name__:\n",
    "    main()"
   ]
  },
  {
   "cell_type": "markdown",
   "metadata": {},
   "source": [
    "4. Find Floor of element in sorted array"
   ]
  },
  {
   "cell_type": "code",
   "execution_count": null,
   "metadata": {},
   "outputs": [],
   "source": [
    "def checkFloor(arr, target, start, end):\n",
    "    if start > end:\n",
    "        return -1\n",
    "    mid = start + (end-start)//2\n",
    "    if arr[mid] == target:\n",
    "        return arr[mid]\n",
    "    elif arr[mid] < target:\n",
    "        return checkFloor(arr, target, mid+1, end)\n",
    "    elif arr[mid] > target:\n",
    "        return checkFloor(arr, target, start, end)\n",
    "    else:\n",
    "        return checkFloor(arr, target, start, mid-2)\n",
    "\n",
    "def main():\n",
    "    s = [1,2,3,4,8,9,10,11]\n",
    "    target = 5\n",
    "    start, end = 0, len(s)-1\n",
    "    print(checkFloor(s, target, start, end))\n",
    "    \n",
    "if __name__:\n",
    "    main()"
   ]
  }
 ],
 "metadata": {
  "kernelspec": {
   "display_name": "Python 3",
   "language": "python",
   "name": "python3"
  },
  "language_info": {
   "codemirror_mode": {
    "name": "ipython",
    "version": 3
   },
   "file_extension": ".py",
   "mimetype": "text/x-python",
   "name": "python",
   "nbconvert_exporter": "python",
   "pygments_lexer": "ipython3",
   "version": "3.7.3"
  }
 },
 "nbformat": 4,
 "nbformat_minor": 4
}
